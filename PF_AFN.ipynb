{
  "nbformat": 4,
  "nbformat_minor": 0,
  "metadata": {
    "colab": {
      "name": "PF-AFN",
      "provenance": [],
      "mount_file_id": "1EUpxRhRNfufW2ETytT_M36P7C4d_8sNb",
      "authorship_tag": "ABX9TyMr5f8fCws0niX7PlkfWDIV",
      "include_colab_link": true
    },
    "kernelspec": {
      "name": "python3",
      "display_name": "Python 3"
    },
    "language_info": {
      "name": "python"
    },
    "accelerator": "GPU"
  },
  "cells": [
    {
      "cell_type": "markdown",
      "metadata": {
        "id": "view-in-github",
        "colab_type": "text"
      },
      "source": [
        "<a href=\"https://colab.research.google.com/github/cedro3/PF-AFN-axross/blob/main/PF_AFN.ipynb\" target=\"_parent\"><img src=\"https://colab.research.google.com/assets/colab-badge.svg\" alt=\"Open In Colab\"/></a>"
      ]
    },
    {
      "cell_type": "markdown",
      "metadata": {
        "id": "0McQU4b05yD8"
      },
      "source": [
        "## セットアップ"
      ]
    },
    {
      "cell_type": "code",
      "metadata": {
        "id": "NXCK3dWmH4yG"
      },
      "source": [
        "# 1.githubからコードを取得\n",
        "! git clone https://github.com/cedro3/PF-AFN-axross.git\n",
        "%cd PF-AFN-axross/PF-AFN_test\n",
        "\n",
        "# 2.学習済みパラメータをダウンロード\n",
        "import gdown\n",
        "gdown.download('https://drive.google.com/u/0/uc?id=1CKB11poq6qcHXwf7WeoTrSc5jRICTJfd', 'checkpoints.zip', quiet=False)\n",
        "! unzip checkpoints.zip\n",
        "\n",
        "# 3.画像データをダウンロード\n",
        "gdown.download('https://drive.google.com/uc?id=1MxF4Mk97BXQhhs4HSUso91IQeEuRlkUO', './VITON_test.zip', quiet=False)\n",
        "! unzip VITON_test.zip\n",
        "\n",
        "# 4.フォルダー内表示関数定義\n",
        "import matplotlib.pyplot as plt\n",
        "from PIL import Image\n",
        "import os\n",
        "import numpy as np\n",
        "%matplotlib inline\n",
        "\n",
        "def display_pic(folder):\n",
        "    fig = plt.figure(figsize=(30, 40))\n",
        "    files = os.listdir(folder)\n",
        "    files.sort()\n",
        "    for i, file in enumerate(files):\n",
        "        if file=='.ipynb_checkpoints':\n",
        "           continue\n",
        "        if file=='.DS_Store':\n",
        "           continue\n",
        "        img = Image.open(folder+'/'+file)    \n",
        "        images = np.asarray(img)\n",
        "        ax = fig.add_subplot(10, 10, i+1, xticks=[], yticks=[])\n",
        "        image_plt = np.array(images)\n",
        "        ax.imshow(image_plt)\n",
        "        ax.set_xlabel(file, fontsize=15)               \n",
        "    plt.show()\n",
        "    plt.close()  "
      ],
      "execution_count": null,
      "outputs": []
    },
    {
      "cell_type": "markdown",
      "metadata": {
        "id": "pN7WBKLj6dZF"
      },
      "source": [
        "## サンプルデータの確認\n",
        "・test_clothes に対応する test_edge は同じファイル名であることに留意して下さい。"
      ]
    },
    {
      "cell_type": "code",
      "metadata": {
        "id": "Fodb1M8dYGdr"
      },
      "source": [
        "# サンプルデータの確認\n",
        "display_pic('dataset/test_img')  # 人物画像\n",
        "display_pic('dataset/test_clothes')  # 衣服画像\n",
        "display_pic('dataset/test_edge')  # 衣服マスク画像"
      ],
      "execution_count": null,
      "outputs": []
    },
    {
      "cell_type": "markdown",
      "metadata": {
        "id": "TcBiEPUpxQXC"
      },
      "source": [
        "## 設定ファイルの確認\n",
        "・設定ファイルは、demo.txtファイルと決められています。\\\n",
        "・config/demo1.txtをdemo.txtにコピーし、設定ファイルとします。"
      ]
    },
    {
      "cell_type": "code",
      "metadata": {
        "id": "D1_Q5e2orU5u"
      },
      "source": [
        "# 設定ファイルのコピー\n",
        "import shutil\n",
        "shutil.copy('config/demo1.txt','demo.txt')\n",
        "\n",
        "# 設定ファイル（demo.txt）の表示\n",
        "with open('demo.txt')as f:\n",
        "  for line in f:\n",
        "      line = line.rstrip()\n",
        "      print(line)"
      ],
      "execution_count": null,
      "outputs": []
    },
    {
      "cell_type": "markdown",
      "metadata": {
        "id": "YfVact0P6tBY"
      },
      "source": [
        "# バーチャル試着の実行\n",
        "・バーチャル試着画像（jpg）は、PF-AFN_text/results/demo/PFAFN に連番で保存されます"
      ]
    },
    {
      "cell_type": "code",
      "metadata": {
        "id": "pQGtKTi0PEqa"
      },
      "source": [
        "# results/demo/PFAFN フォルダーリセット\n",
        "import os\n",
        "import shutil\n",
        "if os.path.isdir('results/demo/PFAFN'):\n",
        "    shutil.rmtree('results/demo/PFAFN')\n",
        "os.makedirs('results/demo/PFAFN', exist_ok=True)\n",
        "\n",
        "# バーチャル試着の実行\n",
        "! python test.py\n",
        "\n",
        "# 試着結果の表示\n",
        "from IPython.display import Image, display_jpeg\n",
        "import glob\n",
        "\n",
        "files = glob.glob('results/demo/PFAFN/*.jpg')\n",
        "files.sort()\n",
        "\n",
        "for file in files:\n",
        "    print(file)\n",
        "    display_jpeg(Image(file))"
      ],
      "execution_count": null,
      "outputs": []
    },
    {
      "cell_type": "markdown",
      "metadata": {
        "id": "HqJtT2bm9SRn"
      },
      "source": [
        "# ムービーの作成\n",
        "・results/demo/PFAFNフォルダーの連番ファイルからmp4を作成します。作成したmp4は、output.mp4に保存されます"
      ]
    },
    {
      "cell_type": "code",
      "metadata": {
        "id": "mszYl0yk_7yd"
      },
      "source": [
        "# output.mp4をリセット\n",
        "if os.path.exists('./output.mp4'):\n",
        "   os.remove('./output.mp4')\n",
        "\n",
        "# mp4作成\n",
        "!ffmpeg -r 2 -i results/demo/PFAFN/%4d.jpg -vcodec libx264 -pix_fmt yuv420p output.mp4"
      ],
      "execution_count": null,
      "outputs": []
    },
    {
      "cell_type": "code",
      "metadata": {
        "id": "Z-wV08iG5MyL"
      },
      "source": [
        "# mp4再生\n",
        "from IPython.display import HTML\n",
        "from base64 import b64encode\n",
        "\n",
        "mp4 = open('./output.mp4', 'rb').read()\n",
        "data_url = 'data:video/mp4;base64,' + b64encode(mp4).decode()\n",
        "HTML(f\"\"\"\n",
        "<video width=\"60%\" height=\"60%\" controls>\n",
        "      <source src=\"{data_url}\" type=\"video/mp4\">\n",
        "</video>\"\"\")"
      ],
      "execution_count": null,
      "outputs": []
    },
    {
      "cell_type": "markdown",
      "metadata": {
        "id": "-eNc0r-ENZMk"
      },
      "source": [
        "# 色々なバーチャル試着"
      ]
    },
    {
      "cell_type": "markdown",
      "metadata": {
        "id": "BLP4NwHHrDLs"
      },
      "source": [
        "**設定ファイルの確認**"
      ]
    },
    {
      "cell_type": "code",
      "metadata": {
        "id": "22ysu42aN0bT"
      },
      "source": [
        "# 設定ファイルのコピー\n",
        "import shutil\n",
        "shutil.copy('config/demo2.txt','demo.txt')\n",
        "\n",
        "# 設定ファイル（demo.txt）の確認\n",
        "with open('demo.txt')as f:\n",
        "  for line in f:\n",
        "      line = line.rstrip()\n",
        "      print(line)"
      ],
      "execution_count": null,
      "outputs": []
    },
    {
      "cell_type": "markdown",
      "metadata": {
        "id": "4WDWmqEvrOU1"
      },
      "source": [
        "**バーチャル試着の実行**"
      ]
    },
    {
      "cell_type": "code",
      "metadata": {
        "id": "L2tr-aVSNFFb"
      },
      "source": [
        "# results/demo/PFAFN フォルダーリセット\n",
        "import os\n",
        "import shutil\n",
        "if os.path.isdir('results/demo/PFAFN'):\n",
        "    shutil.rmtree('results/demo/PFAFN')\n",
        "os.makedirs('results/demo/PFAFN', exist_ok=True)\n",
        "\n",
        "# バーチャル試着の実行\n",
        "! python test.py --dataroot './VITON_test'  # dataroot オプション\n",
        "\n",
        "# 試着結果の表示\n",
        "from IPython.display import Image, display_jpeg\n",
        "import glob\n",
        "\n",
        "files = glob.glob('results/demo/PFAFN/*.jpg')\n",
        "files.sort()\n",
        "\n",
        "for file in files:\n",
        "    print(file)\n",
        "    display_jpeg(Image(file))"
      ],
      "execution_count": null,
      "outputs": []
    },
    {
      "cell_type": "markdown",
      "metadata": {
        "id": "K5BISFcyrWe3"
      },
      "source": [
        "**ムービーの作成**"
      ]
    },
    {
      "cell_type": "code",
      "metadata": {
        "id": "Tem6WUQj-7hl"
      },
      "source": [
        "# output.mp4をリセット\n",
        "if os.path.exists('./output.mp4'):\n",
        "   os.remove('./output.mp4')\n",
        "\n",
        "# mp4作成\n",
        "!ffmpeg -r 2 -i results/demo/PFAFN/%4d.jpg -vcodec libx264 -pix_fmt yuv420p output.mp4"
      ],
      "execution_count": null,
      "outputs": []
    },
    {
      "cell_type": "code",
      "metadata": {
        "id": "MKJgRZ_vOXjO"
      },
      "source": [
        "# mp4再生\n",
        "from IPython.display import HTML\n",
        "from base64 import b64encode\n",
        "\n",
        "mp4 = open('./output.mp4', 'rb').read()\n",
        "data_url = 'data:video/mp4;base64,' + b64encode(mp4).decode()\n",
        "HTML(f\"\"\"\n",
        "<video width=\"60%\" height=\"60%\" controls>\n",
        "      <source src=\"{data_url}\" type=\"video/mp4\">\n",
        "</video>\"\"\")"
      ],
      "execution_count": null,
      "outputs": []
    }
  ]
}